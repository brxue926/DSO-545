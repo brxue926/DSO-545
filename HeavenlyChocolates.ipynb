{
 "cells": [
  {
   "cell_type": "markdown",
   "metadata": {},
   "source": [
    "## Homework 04"
   ]
  },
  {
   "cell_type": "code",
   "execution_count": 15,
   "metadata": {},
   "outputs": [],
   "source": [
    "import numpy as np\n",
    "import pandas as pd\n",
    "import matplotlib.pyplot as plt"
   ]
  },
  {
   "cell_type": "code",
   "execution_count": 16,
   "metadata": {
    "scrolled": true
   },
   "outputs": [
    {
     "data": {
      "text/html": [
       "<div>\n",
       "<style scoped>\n",
       "    .dataframe tbody tr th:only-of-type {\n",
       "        vertical-align: middle;\n",
       "    }\n",
       "\n",
       "    .dataframe tbody tr th {\n",
       "        vertical-align: top;\n",
       "    }\n",
       "\n",
       "    .dataframe thead th {\n",
       "        text-align: right;\n",
       "    }\n",
       "</style>\n",
       "<table border=\"1\" class=\"dataframe\">\n",
       "  <thead>\n",
       "    <tr style=\"text-align: right;\">\n",
       "      <th></th>\n",
       "      <th>Customer</th>\n",
       "      <th>Day</th>\n",
       "      <th>Browser</th>\n",
       "      <th>Time</th>\n",
       "      <th>Pages_Viewed</th>\n",
       "      <th>Amount_Spent</th>\n",
       "    </tr>\n",
       "  </thead>\n",
       "  <tbody>\n",
       "    <tr>\n",
       "      <th>0</th>\n",
       "      <td>1</td>\n",
       "      <td>Mon</td>\n",
       "      <td>Chrome</td>\n",
       "      <td>12.0</td>\n",
       "      <td>4</td>\n",
       "      <td>54.52</td>\n",
       "    </tr>\n",
       "    <tr>\n",
       "      <th>1</th>\n",
       "      <td>2</td>\n",
       "      <td>Wed</td>\n",
       "      <td>Other</td>\n",
       "      <td>19.5</td>\n",
       "      <td>6</td>\n",
       "      <td>94.90</td>\n",
       "    </tr>\n",
       "    <tr>\n",
       "      <th>2</th>\n",
       "      <td>3</td>\n",
       "      <td>Mon</td>\n",
       "      <td>Chrome</td>\n",
       "      <td>8.5</td>\n",
       "      <td>4</td>\n",
       "      <td>26.68</td>\n",
       "    </tr>\n",
       "    <tr>\n",
       "      <th>3</th>\n",
       "      <td>4</td>\n",
       "      <td>Tue</td>\n",
       "      <td>Firefox</td>\n",
       "      <td>11.4</td>\n",
       "      <td>2</td>\n",
       "      <td>44.73</td>\n",
       "    </tr>\n",
       "    <tr>\n",
       "      <th>4</th>\n",
       "      <td>5</td>\n",
       "      <td>Wed</td>\n",
       "      <td>Chrome</td>\n",
       "      <td>11.3</td>\n",
       "      <td>4</td>\n",
       "      <td>66.27</td>\n",
       "    </tr>\n",
       "  </tbody>\n",
       "</table>\n",
       "</div>"
      ],
      "text/plain": [
       "   Customer  Day  Browser  Time  Pages_Viewed  Amount_Spent\n",
       "0         1  Mon   Chrome  12.0             4         54.52\n",
       "1         2  Wed    Other  19.5             6         94.90\n",
       "2         3  Mon   Chrome   8.5             4         26.68\n",
       "3         4  Tue  Firefox  11.4             2         44.73\n",
       "4         5  Wed   Chrome  11.3             4         66.27"
      ]
     },
     "execution_count": 16,
     "metadata": {},
     "output_type": "execute_result"
    }
   ],
   "source": [
    "sales = pd.read_csv(\"HeavenlyChocolates.csv\")\n",
    "sales.head()"
   ]
  },
  {
   "cell_type": "code",
   "execution_count": 18,
   "metadata": {},
   "outputs": [
    {
     "data": {
      "text/html": [
       "<div>\n",
       "<style scoped>\n",
       "    .dataframe tbody tr th:only-of-type {\n",
       "        vertical-align: middle;\n",
       "    }\n",
       "\n",
       "    .dataframe tbody tr th {\n",
       "        vertical-align: top;\n",
       "    }\n",
       "\n",
       "    .dataframe thead th {\n",
       "        text-align: right;\n",
       "    }\n",
       "</style>\n",
       "<table border=\"1\" class=\"dataframe\">\n",
       "  <thead>\n",
       "    <tr style=\"text-align: right;\">\n",
       "      <th></th>\n",
       "      <th>Browser</th>\n",
       "      <th>Count</th>\n",
       "    </tr>\n",
       "  </thead>\n",
       "  <tbody>\n",
       "    <tr>\n",
       "      <th>0</th>\n",
       "      <td>Chrome</td>\n",
       "      <td>27</td>\n",
       "    </tr>\n",
       "    <tr>\n",
       "      <th>1</th>\n",
       "      <td>Other</td>\n",
       "      <td>7</td>\n",
       "    </tr>\n",
       "    <tr>\n",
       "      <th>2</th>\n",
       "      <td>Firefox</td>\n",
       "      <td>16</td>\n",
       "    </tr>\n",
       "  </tbody>\n",
       "</table>\n",
       "</div>"
      ],
      "text/plain": [
       "   Browser  Count\n",
       "0   Chrome     27\n",
       "1    Other      7\n",
       "2  Firefox     16"
      ]
     },
     "execution_count": 18,
     "metadata": {},
     "output_type": "execute_result"
    }
   ],
   "source": [
    "# Question 1\n",
    "# Create a dataframe that shows the number of visits to Heavenly Chocoloate’s website using different browsers\n",
    "\n",
    "unique_Browser = sales.Browser.unique()\n",
    "\n",
    "count = []\n",
    "for i in list(unique_Browser):\n",
    "    count.append(sales[sales.Browser == i].count()[0])\n",
    "\n",
    "\n",
    "data = pd.DataFrame({\n",
    "    \"Browser\": unique_Browser,\n",
    "    \"Count\": count\n",
    "})\n",
    "\n",
    "data"
   ]
  },
  {
   "cell_type": "code",
   "execution_count": 71,
   "metadata": {},
   "outputs": [
    {
     "data": {
      "image/png": "[encoded data removed]",
      "text/plain": [
       "<Figure size 432x288 with 1 Axes>"
      ]
     },
     "metadata": {
      "needs_background": "light"
     },
     "output_type": "display_data"
    }
   ],
   "source": [
    "# Question 2\n",
    "# Create s graph to show which browser is used more by the Heavenly Chocolate website visitors\n",
    "\n",
    "plt.figure()\n",
    "\n",
    "plt.bar(data.Browser, data.Count)\n",
    "\n",
    "plt.axhline(y = data.Count.mean(), color = \"red\", linestyle = '--',\n",
    "           label = 'Average Line')\n",
    "plt.title('Brosers Used to Visit Heavenly Chocolate Website', fontsize = 12)\n",
    "plt.ylabel('Count')\n",
    "plt.yticks(range(0,31,10))\n",
    "\n",
    "plt.legend() \n",
    "plt.show()"
   ]
  },
  {
   "cell_type": "code",
   "execution_count": 96,
   "metadata": {
    "scrolled": false
   },
   "outputs": [
    {
     "data": {
      "image/png": "[encoded data removed]",
      "text/plain": [
       "<Figure size 432x288 with 1 Axes>"
      ]
     },
     "metadata": {
      "needs_background": "light"
     },
     "output_type": "display_data"
    }
   ],
   "source": [
    "# Question 3\n",
    "# Create a scatterplot that shows the relationship between the time spent browsing, and the amount spent buying using either Firefox or Chrome browswers. \n",
    "\n",
    "Chrome = sales[sales.Browser == 'Chrome']\n",
    "Firefox = sales[sales.Browser == 'Firefox']\n",
    "\n",
    "plt.figure()\n",
    "\n",
    "plt.scatter(Chrome['Time'], Chrome['Amount_Spent'], \n",
    "            label = 'Chrome',\n",
    "            color = 'blue')\n",
    "plt.scatter(Firefox['Time'],Firefox['Amount_Spent'], \n",
    "            label = 'Firefox',\n",
    "            color = 'red')\n",
    "\n",
    "plt.axhline(y = Firefox.Amount_Spent.mean(), color = \"red\", linestyle = '--',\n",
    "            linewidth = 1)\n",
    "plt.axhline(y = Chrome.Amount_Spent.mean(), color = \"blue\", linestyle = '--',\n",
    "            linewidth = 1,\n",
    "            label = 'Average')\n",
    "plt.axvline(x = Firefox.Time.mean(), color = \"red\", linestyle = ':',\n",
    "            linewidth = 1)\n",
    "plt.axvline(x = Chrome.Time.mean(), color = \"blue\", linestyle = ':',\n",
    "            linewidth = 1)\n",
    "\n",
    "plt.title('Relationship betwen time spent browsing and smount Spent', fontsize = 12)\n",
    "plt.xlabel('Time Spent')\n",
    "plt.ylabel('Amount Spent')\n",
    "plt.xticks(range(0,46,5))\n",
    "plt.yticks(range(0,171,20))\n",
    "\n",
    "plt.legend(loc=4) \n",
    "plt.show()"
   ]
  },
  {
   "cell_type": "code",
   "execution_count": 35,
   "metadata": {
    "scrolled": true
   },
   "outputs": [
    {
     "data": {
      "text/html": [
       "<div>\n",
       "<style scoped>\n",
       "    .dataframe tbody tr th:only-of-type {\n",
       "        vertical-align: middle;\n",
       "    }\n",
       "\n",
       "    .dataframe tbody tr th {\n",
       "        vertical-align: top;\n",
       "    }\n",
       "\n",
       "    .dataframe thead th {\n",
       "        text-align: right;\n",
       "    }\n",
       "</style>\n",
       "<table border=\"1\" class=\"dataframe\">\n",
       "  <thead>\n",
       "    <tr style=\"text-align: right;\">\n",
       "      <th></th>\n",
       "      <th>Day</th>\n",
       "      <th>Chrome_Day</th>\n",
       "      <th>Firefox_Day</th>\n",
       "    </tr>\n",
       "  </thead>\n",
       "  <tbody>\n",
       "    <tr>\n",
       "      <th>0</th>\n",
       "      <td>Mon</td>\n",
       "      <td>5</td>\n",
       "      <td>2</td>\n",
       "    </tr>\n",
       "    <tr>\n",
       "      <th>1</th>\n",
       "      <td>Tue</td>\n",
       "      <td>4</td>\n",
       "      <td>2</td>\n",
       "    </tr>\n",
       "    <tr>\n",
       "      <th>2</th>\n",
       "      <td>Wed</td>\n",
       "      <td>4</td>\n",
       "      <td>1</td>\n",
       "    </tr>\n",
       "    <tr>\n",
       "      <th>3</th>\n",
       "      <td>Thu</td>\n",
       "      <td>4</td>\n",
       "      <td>1</td>\n",
       "    </tr>\n",
       "    <tr>\n",
       "      <th>4</th>\n",
       "      <td>Fri</td>\n",
       "      <td>4</td>\n",
       "      <td>6</td>\n",
       "    </tr>\n",
       "    <tr>\n",
       "      <th>5</th>\n",
       "      <td>Sat</td>\n",
       "      <td>3</td>\n",
       "      <td>3</td>\n",
       "    </tr>\n",
       "    <tr>\n",
       "      <th>6</th>\n",
       "      <td>Sun</td>\n",
       "      <td>3</td>\n",
       "      <td>1</td>\n",
       "    </tr>\n",
       "  </tbody>\n",
       "</table>\n",
       "</div>"
      ],
      "text/plain": [
       "   Day  Chrome_Day  Firefox_Day\n",
       "0  Mon           5            2\n",
       "1  Tue           4            2\n",
       "2  Wed           4            1\n",
       "3  Thu           4            1\n",
       "4  Fri           4            6\n",
       "5  Sat           3            3\n",
       "6  Sun           3            1"
      ]
     },
     "execution_count": 35,
     "metadata": {},
     "output_type": "execute_result"
    }
   ],
   "source": [
    "# Question 4\n",
    "# Create a chart which shows the number of website visitors per day for people using Chrome or Firefox\n",
    "\n",
    "Chrome = sales[sales.Browser == 'Chrome']\n",
    "Firefox = sales[sales.Browser == 'Firefox']\n",
    "\n",
    "Day = pd.Series([\"Mon\",\"Tue\",\"Wed\",\"Thu\",\"Fri\",\"Sat\",\"Sun\"])\n",
    "\n",
    "count_Chrome_Day = []\n",
    "for i in list(Day):\n",
    "    count_Chrome_Day.append(Chrome[Chrome.Day == i].count()[0])\n",
    "\n",
    "\n",
    "count_Firefox_Day =[]\n",
    "for j in list(Day):\n",
    "    count_Firefox_Day.append(Firefox[Firefox.Day == j].count()[0])\n",
    "    \n",
    "df_visitors = pd.DataFrame({\n",
    "    \"Day\": Day,\n",
    "    \"Chrome_Day\": count_Chrome_Day,\n",
    "     \"Firefox_Day\": count_Firefox_Day\n",
    "})\n",
    "\n",
    "df_visitors"
   ]
  },
  {
   "cell_type": "code",
   "execution_count": 38,
   "metadata": {},
   "outputs": [
    {
     "data": {
      "image/png": "[encoded data removed]",
      "text/plain": [
       "<Figure size 432x288 with 1 Axes>"
      ]
     },
     "metadata": {
      "needs_background": "light"
     },
     "output_type": "display_data"
    }
   ],
   "source": [
    "plt.figure()\n",
    "\n",
    "pos = np.arange(len(Day))\n",
    "barwidth = 0.3\n",
    "\n",
    "plt.bar(pos - barwidth/2 , df_visitors[\"Chrome_Day\"], \n",
    "        label = 'Chrome',\n",
    "        width = barwidth,\n",
    "        color = 'blue')\n",
    "\n",
    "plt.bar(pos + barwidth/2, df_visitors['Firefox_Day'],\n",
    "        label = 'Firefox',\n",
    "        width = barwidth,\n",
    "        color = 'red')\n",
    "\n",
    "plt.xticks(pos)\n",
    "ax = plt.gca()\n",
    "\n",
    "ax.set_xticklabels(df_visitors[\"Day\"])\n",
    "\n",
    "plt.title('Number of website visitors per day')\n",
    "plt.ylabel('Count')\n",
    "\n",
    "plt.legend()\n",
    "plt.show()"
   ]
  },
  {
   "cell_type": "code",
   "execution_count": null,
   "metadata": {},
   "outputs": [],
   "source": []
  }
 ],
 "metadata": {
  "kernelspec": {
   "display_name": "Python 3",
   "language": "python",
   "name": "python3"
  },
  "language_info": {
   "codemirror_mode": {
    "name": "ipython",
    "version": 3
   },
   "file_extension": ".py",
   "mimetype": "text/x-python",
   "name": "python",
   "nbconvert_exporter": "python",
   "pygments_lexer": "ipython3",
   "version": "3.7.3"
  }
 },
 "nbformat": 4,
 "nbformat_minor": 2
}
